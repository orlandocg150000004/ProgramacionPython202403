{
 "cells": [
  {
   "cell_type": "markdown",
   "metadata": {},
   "source": [
    "# FLUJO DE CONTROL"
   ]
  },
  {
   "cell_type": "markdown",
   "metadata": {},
   "source": [
    "En programación, los flujos de control son aquellos que nos ayudarán en la toma de decisiones sobre nuestros programas. \n",
    "\n",
    "Ejemplo:\n",
    "- Si el precio del limon es mayor a 10 soles, entonces no comprar."
   ]
  },
  {
   "cell_type": "markdown",
   "metadata": {},
   "source": [
    "<center> <img src='https://3.bp.blogspot.com/-vRouRKZaj9M/UbdSfGNif4I/AAAAAAAAAHQ/X5wOYnb-B5o/s1600/if-else.png' width=\"400\" height=\"250\"></center>"
   ]
  },
  {
   "cell_type": "markdown",
   "metadata": {},
   "source": [
    "## 1.Sentencia (if - else) "
   ]
  },
  {
   "cell_type": "markdown",
   "metadata": {},
   "source": [
    "El uso de condiciones nos permite tener un mayor control sobre el flujo del programa."
   ]
  },
  {
   "cell_type": "code",
   "execution_count": 3,
   "metadata": {},
   "outputs": [
    {
     "name": "stdout",
     "output_type": "stream",
     "text": [
      "Bienvenido!!\n"
     ]
    }
   ],
   "source": [
    "# Sentencia if (si) -> se activa cuando el valor de mi condicional es True\n",
    "\n",
    "password = '1234'\n",
    "\n",
    "if password=='1234':\n",
    "    print('Bienvenido!!')\n"
   ]
  },
  {
   "cell_type": "code",
   "execution_count": 5,
   "metadata": {},
   "outputs": [
    {
     "name": "stdout",
     "output_type": "stream",
     "text": [
      "Contraseña incorrecta\n"
     ]
    }
   ],
   "source": [
    "password = '15434'\n",
    "\n",
    "if password=='1334':\n",
    "    print('Bienvenido!!')\n",
    "else: print('Contraseña incorrecta')"
   ]
  },
  {
   "cell_type": "code",
   "execution_count": 6,
   "metadata": {},
   "outputs": [
    {
     "name": "stdout",
     "output_type": "stream",
     "text": [
      "el valor de x = 85 es distinto de 8\n"
     ]
    }
   ],
   "source": [
    "# Sentencia else (si no) -> sentencias 'else' se activan si condicional es False\n",
    "x = 85\n",
    "if x == 8 :\n",
    "    # 4 espacios\n",
    "    print('el valor de x es 8')\n",
    "else:\n",
    "    print('el valor de x = {} es distinto de 8'.format(x))"
   ]
  },
  {
   "cell_type": "markdown",
   "metadata": {},
   "source": [
    "## 2. Sentencia elif (sino si)"
   ]
  },
  {
   "cell_type": "markdown",
   "metadata": {},
   "source": [
    "Se encadena a un if u otro elif para comprobar múltiples condiciones, siempre que las anteriores no se ejecuten:"
   ]
  },
  {
   "cell_type": "code",
   "execution_count": 10,
   "metadata": {},
   "outputs": [
    {
     "name": "stdout",
     "output_type": "stream",
     "text": [
      "el valor de x es 8\n"
     ]
    }
   ],
   "source": [
    "# Sentencia else (si no)\n",
    "x=8\n",
    "if x==8 :\n",
    "    print('el valor de x es 8')\n",
    "elif x==9:\n",
    "    print('el valor de x es 9')\n",
    "elif x==10:\n",
    "    print('el valor de x es 10')\n",
    "else:\n",
    "    print('el valor de x es distinto de 8,9 y 10')"
   ]
  },
  {
   "cell_type": "code",
   "execution_count": 14,
   "metadata": {},
   "outputs": [],
   "source": [
    "# Sentencia if anidado -> implica crear un if dentro de otro if\n",
    "\n",
    "\"\"\"Ejercicio\n",
    "Escribe un programa en Python que solicite al usuario ingresar un número entero \n",
    "y luego verifique si es positivo y par. Muestra un mensaje correspondiente en cada caso.\n",
    "\n",
    "\"\"\"\n",
    "\n",
    "numero_entero = int(input('Ingrese un número entero: '))\n",
    "\n",
    "\n",
    "if numero_entero>0:\n",
    "    print('EL numero ingresado es positivo')\n",
    "\n",
    "    if numero_entero %2 == 0:\n",
    "        print('El numero ingresado es par')\n",
    "\n",
    "\n"
   ]
  },
  {
   "cell_type": "code",
   "execution_count": 15,
   "metadata": {},
   "outputs": [
    {
     "name": "stdout",
     "output_type": "stream",
     "text": [
      "El número ingresado es 124, por lo tanto es positivo y par\n"
     ]
    }
   ],
   "source": [
    "num = int(input('Ingrese un número entero: '))\n",
    "if num%2==0 and num>=0:\n",
    "    print(f'El número ingresado es {num}, por lo tanto es positivo y par')\n",
    "elif num%2==0 and num<0:\n",
    "    print(f'El número ingresado es {num}, por lo tanto es negativo y par')\n",
    "elif (num%2!=0 and num>=0):\n",
    "    print(f'El número ingresado es {num}, por lo tanto es positivo e impar')\n",
    "elif (num%2!=0 and num<0):\n",
    "    print(f'El número ingresado es {num}, por lo tanto es negativo e impar')"
   ]
  },
  {
   "cell_type": "markdown",
   "metadata": {},
   "source": [
    "# EJERCICIOS"
   ]
  },
  {
   "cell_type": "markdown",
   "metadata": {},
   "source": [
    "#### 1.\n",
    "Crear un programa que permita decidir a una persona cruzar la calle o no según:\n",
    "- Si semáforo esta en verde cruzar la calle\n",
    "- Si semáforo esta en rojo o amarillo no cruzar\n",
    "\n",
    "La persona debe poder ingresar el estado del semáforo por teclado"
   ]
  },
  {
   "cell_type": "code",
   "execution_count": 19,
   "metadata": {},
   "outputs": [
    {
     "name": "stdout",
     "output_type": "stream",
     "text": [
      "No cruce la calle.\n"
     ]
    }
   ],
   "source": [
    "# Solicitar al usuario el estado del semáforo\n",
    "estado_semaforo = input(\"Ingrese el estado del semáforo (verde, amarillo, rojo): \")\n",
    "\n",
    "# Definir un diccionario para mapear estados del semáforo a decisiones\n",
    "decisiones = {\n",
    "    \"verde\": \"Puede cruzar la calle.\",\n",
    "    \"amarillo\": \"No cruce la calle.\",\n",
    "    \"rojo\": \"No cruce la calle.\"\n",
    "}\n",
    "\n",
    "# Mostrar la decisión basada en el estado del semáforo\n",
    "print(decisiones.get(estado_semaforo.lower(), \"Estado del semáforo no reconocido.\"))\n"
   ]
  },
  {
   "cell_type": "markdown",
   "metadata": {},
   "source": [
    "#### 2.\n",
    "Escribir un programa que pregunte al usuario su edad y muestre por pantalla si es mayor de edad o no."
   ]
  },
  {
   "cell_type": "code",
   "execution_count": 7,
   "metadata": {},
   "outputs": [
    {
     "name": "stdout",
     "output_type": "stream",
     "text": [
      "Eres mayor de edad.\n"
     ]
    }
   ],
   "source": [
    "while True:\n",
    "    try:\n",
    "        edad = int(input(\"Ingrese su edad: \"))\n",
    "        break  # Salir del bucle si la entrada es válida\n",
    "    except ValueError:\n",
    "        print(\"Error: Ingrese una edad válida (número entero).\")\n",
    "\n",
    "# Verificar si es mayor de edad\n",
    "if edad >= 18:\n",
    "    print(\"Eres mayor de edad.\")\n",
    "else:\n",
    "    print(\"Eres menor de edad.\")\n"
   ]
  },
  {
   "cell_type": "markdown",
   "metadata": {},
   "source": [
    "#### 3.\n",
    "Escribir un programa que almacene la cadena de caracteres <b>contraseña</b> en una variable, pregunte al usuario por la contraseña e imprima por pantalla si la contraseña introducida por el usuario coincide con la guardada en la variable sin tener en cuenta mayúsculas y minúsculas."
   ]
  },
  {
   "cell_type": "code",
   "execution_count": 9,
   "metadata": {},
   "outputs": [
    {
     "name": "stdout",
     "output_type": "stream",
     "text": [
      "¡Contraseña correcta!\n"
     ]
    }
   ],
   "source": [
    "# Contraseña almacenada en una variable\n",
    "contrasena_guardada = \"LOL\"\n",
    "\n",
    "# Solicitar al usuario la contraseña\n",
    "contrasena_usuario = input(\"Ingrese la contraseña: \")\n",
    "\n",
    "# Verificar si la contraseña coincide (sin distinción entre mayúsculas y minúsculas)\n",
    "if contrasena_usuario.lower() == contrasena_guardada.lower():\n",
    "    print(\"¡Contraseña correcta!\")\n",
    "else:\n",
    "    print(\"Contraseña incorrecta.\")\n"
   ]
  },
  {
   "cell_type": "markdown",
   "metadata": {},
   "source": [
    "### 4. \n",
    "Escribir un programa que pida al usuario un número entero y muestre por pantalla si es par o impar.\n"
   ]
  },
  {
   "cell_type": "code",
   "execution_count": null,
   "metadata": {},
   "outputs": [],
   "source": []
  },
  {
   "cell_type": "markdown",
   "metadata": {},
   "source": [
    "#### 5.\n",
    "Los tramos impositivos para la declaración de la renta en un determinado país son los siguientes:\n",
    "\n",
    "<table>\n",
    "    <thead>\n",
    "        <th style=\"text-align: center\">Renta</th>\n",
    "        <th style=\"text-align: center\">% de Impuesto</th>\n",
    "    </thead>\n",
    "    <tbody>\n",
    "        <tr>\n",
    "            <td style=\"text-align: center\">Menos de 10000€</td>\n",
    "            <td style=\"text-align: center\">5%</td>\n",
    "        </tr>\n",
    "        <tr>\n",
    "            <td style=\"text-align: center\">Entre 10000€ y 20000€</td>\n",
    "            <td style=\"text-align: center\">15%</td>\n",
    "        </tr>\n",
    "        <tr>\n",
    "            <td style=\"text-align: center\">Entre 20000€ y 35000€</td>\n",
    "            <td style=\"text-align: center\">20%</td>\n",
    "        </tr>\n",
    "        <tr>\n",
    "            <td style=\"text-align: center\">Entre 35000€ y 60000€</td>\n",
    "            <td style=\"text-align: center\">30%</td>\n",
    "        </tr>\n",
    "        <tr>\n",
    "            <td style=\"text-align: center\">Más de 60000€</td>\n",
    "            <td style=\"text-align: center\">45%</td>\n",
    "        </tr>\n",
    "    </tbody>\n",
    "</table>\n",
    "\n",
    "\n",
    "Realizar un programa que pueda decir el % de impuestos que una persona deba pagar según su sueldo"
   ]
  },
  {
   "cell_type": "code",
   "execution_count": 21,
   "metadata": {},
   "outputs": [
    {
     "name": "stdout",
     "output_type": "stream",
     "text": [
      "Para un sueldo de 1e+28€, el porcentaje de impuestos es 45%.\n"
     ]
    }
   ],
   "source": [
    "# PEDIR AL USUARIO SU SUELDO CORRESPONDIENTE\n",
    "sueldo = float(input(\"Ingrese su sueldo: \"))\n",
    "\n",
    "# DEFINIR LOS DATOS\n",
    "tramos_impuestos = {\n",
    "    (0, 10000): 5,\n",
    "    (10000, 20000): 15,\n",
    "    (20000, 35000): 20,\n",
    "    (35000, 60000): 30,\n",
    "    (60000, float('inf')): 45\n",
    "}\n",
    "\n",
    "# CALCULAR PORCENTAJE DE IMPUESTO\n",
    "for tramo, porcentaje in tramos_impuestos.items():\n",
    "    if tramo[0] <= sueldo < tramo[1]:\n",
    "        porcentaje_impuestos = porcentaje\n",
    "        break\n",
    "\n",
    "# MOSTRAR RESULTADO\n",
    "print(f\"Para un sueldo de {sueldo}€, el porcentaje de impuestos es {porcentaje_impuestos}%.\")\n"
   ]
  },
  {
   "cell_type": "markdown",
   "metadata": {},
   "source": [
    "#### 6. \n",
    "Realiza un programa que lea dos números por teclado y permita elegir entre 3 opciones en un menú:\n",
    "\n",
    "- Mostrar una suma de los dos números\n",
    "- Mostrar una resta de los dos números (el primero menos el segundo)\n",
    "- Mostrar una multiplicación de los dos números\n",
    "- En caso de introducir una opción inválida, el programa informará de que no es correcta.\n"
   ]
  },
  {
   "cell_type": "code",
   "execution_count": null,
   "metadata": {},
   "outputs": [],
   "source": []
  },
  {
   "cell_type": "markdown",
   "metadata": {},
   "source": [
    "#### 7.\n",
    "La pizzería Bella Napoli ofrece pizzas vegetarianas y no vegetarianas a sus clientes. Los ingredientes para cada tipo de pizza aparecen a continuación.\n",
    "\n",
    "- Ingredientes vegetarianos: Pimiento y tofu.\n",
    "- Ingredientes no vegetarianos: Peperoni, Jamón y Salmón.\n",
    "\n",
    "Escribir un programa que pregunte al usuario si quiere una pizza vegetariana o no, y en función de su respuesta le muestre un menú con los ingredientes disponibles para que elija. Solo se puede eligir un ingrediente además de la mozzarella y el tomate que están en todas la pizzas. Al final se debe mostrar por pantalla si la pizza elegida es vegetariana o no y todos los ingredientes que lleva."
   ]
  },
  {
   "cell_type": "code",
   "execution_count": null,
   "metadata": {},
   "outputs": [],
   "source": []
  },
  {
   "cell_type": "markdown",
   "metadata": {},
   "source": [
    "#### 8.\n",
    "Escribí un programa que solicite al usuario una letra y, si es una vocal, muestre el mensaje “Es vocal”. Verificar si el usuario ingresó un string de más de un carácter y, en ese caso, informarle que no se puede procesar el dato.\n"
   ]
  },
  {
   "cell_type": "code",
   "execution_count": null,
   "metadata": {},
   "outputs": [],
   "source": []
  }
 ],
 "metadata": {
  "kernelspec": {
   "display_name": "Python 3 (ipykernel)",
   "language": "python",
   "name": "python3"
  },
  "language_info": {
   "codemirror_mode": {
    "name": "ipython",
    "version": 3
   },
   "file_extension": ".py",
   "mimetype": "text/x-python",
   "name": "python",
   "nbconvert_exporter": "python",
   "pygments_lexer": "ipython3",
   "version": "3.10.13"
  }
 },
 "nbformat": 4,
 "nbformat_minor": 4
}
